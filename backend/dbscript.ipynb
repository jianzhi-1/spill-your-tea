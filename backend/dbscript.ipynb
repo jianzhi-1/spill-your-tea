{
 "cells": [
  {
   "cell_type": "code",
   "execution_count": 1,
   "id": "d4f4e240",
   "metadata": {},
   "outputs": [],
   "source": [
    "import sqlite3\n",
    "conn = sqlite3.connect('db.db')"
   ]
  },
  {
   "cell_type": "code",
   "execution_count": 12,
   "id": "529dd89e",
   "metadata": {},
   "outputs": [],
   "source": [
    "conn.execute(\"DROP TABLE MESSAGE\")\n",
    "\n",
    "conn.execute('''CREATE TABLE MESSAGE\n",
    "         (ID INT PRIMARY KEY     NOT NULL,\n",
    "         SENDERID           INTEGER    NOT NULL,\n",
    "         RECEIVERID     INTEGER NOT NULL,\n",
    "         TIME       TEXT NOT NULL,\n",
    "         CONTENT     TEXT NOT NULL);''')\n",
    "\n",
    "conn.execute(\"INSERT INTO MESSAGE (ID, SENDERID, RECEIVERID, TIME, CONTENT) \\\n",
    "      VALUES (4, 5, 2, '2023-01-14-16:59:34', 'hi there pikachu')\");\n",
    "conn.execute(\"INSERT INTO MESSAGE (ID, SENDERID, RECEIVERID, TIME, CONTENT) \\\n",
    "      VALUES (5, 2, 5, '2023-01-14-16:59:36', 'hi there ash, how is your day?')\");\n",
    "conn.commit()"
   ]
  },
  {
   "cell_type": "code",
   "execution_count": 13,
   "id": "d0d08b09",
   "metadata": {},
   "outputs": [],
   "source": [
    "conn.execute(\"DROP TABLE USER\")\n",
    "\n",
    "conn.execute('''CREATE TABLE USER\n",
    "         (ID INT PRIMARY KEY     NOT NULL,\n",
    "         NAME           TEXT    NOT NULL,\n",
    "         ISPATRONUS     INTEGER,\n",
    "         PATRONUS       INTEGER,\n",
    "         MOOD     INTEGER,\n",
    "         ENERGY INTEGER,\n",
    "         KINDNESS INTEGER);''')\n",
    "\n",
    "conn.execute(\"INSERT INTO USER (ID,NAME,ISPATRONUS,PATRONUS, MOOD, ENERGY, KINDNESS) \\\n",
    "      VALUES (1, 'jianzhi', 0, 1, 100, 100, 100)\");\n",
    "conn.execute(\"INSERT INTO USER (ID,NAME,ISPATRONUS,PATRONUS, MOOD, ENERGY, KINDNESS) \\\n",
    "      VALUES (2, 'pikachu', 1, 0, 100, 100, 100)\");\n",
    "conn.execute(\"INSERT INTO USER (ID,NAME,ISPATRONUS,PATRONUS, MOOD, ENERGY, KINDNESS) \\\n",
    "      VALUES (3, 'blue', 0, 4, 10, 10, 10)\");\n",
    "conn.execute(\"INSERT INTO USER (ID,NAME,ISPATRONUS,PATRONUS, MOOD, ENERGY, KINDNESS) \\\n",
    "      VALUES (4, 'blub', 1, 0, 50, 50, 50)\");\n",
    "conn.execute(\"INSERT INTO USER (ID,NAME,ISPATRONUS,PATRONUS, MOOD, ENERGY, KINDNESS) \\\n",
    "      VALUES (5, 'ash', 0, 0, 80, 90, 50)\");\n",
    "conn.commit()"
   ]
  },
  {
   "cell_type": "code",
   "execution_count": 2,
   "id": "a0b33d01",
   "metadata": {},
   "outputs": [
    {
     "data": {
      "text/plain": [
       "<sqlite3.Cursor at 0x7f7f069ce500>"
      ]
     },
     "execution_count": 2,
     "metadata": {},
     "output_type": "execute_result"
    }
   ],
   "source": [
    "conn.execute(\"DROP TABLE USER\")"
   ]
  },
  {
   "cell_type": "code",
   "execution_count": 8,
   "id": "cf24f71e",
   "metadata": {},
   "outputs": [
    {
     "data": {
      "text/plain": [
       "<sqlite3.Cursor at 0x7f7f069cee30>"
      ]
     },
     "execution_count": 8,
     "metadata": {},
     "output_type": "execute_result"
    }
   ],
   "source": [
    "conn.execute(\"DROP TABLE MESSAGE\")"
   ]
  },
  {
   "cell_type": "code",
   "execution_count": 9,
   "id": "ad6fb2a4",
   "metadata": {},
   "outputs": [
    {
     "data": {
      "text/plain": [
       "<sqlite3.Cursor at 0x7f7f069ced50>"
      ]
     },
     "execution_count": 9,
     "metadata": {},
     "output_type": "execute_result"
    }
   ],
   "source": [
    "conn.execute('''CREATE TABLE MESSAGE\n",
    "         (ID INT PRIMARY KEY     NOT NULL,\n",
    "         SENDERID           INTEGER    NOT NULL,\n",
    "         RECEIVERID     INTEGER NOT NULL,\n",
    "         TIME       TEXT NOT NULL,\n",
    "         CONTENT     TEXT NOT NULL);''')"
   ]
  },
  {
   "cell_type": "code",
   "execution_count": 4,
   "id": "d33101f0",
   "metadata": {},
   "outputs": [],
   "source": [
    "conn.execute(\"INSERT INTO USER (ID,NAME,ISPATRONUS,PATRONUS, MOOD, ENERGY, KINDNESS) \\\n",
    "      VALUES (1, 'jianzhi', 0, 1, 100, 100, 100)\");\n",
    "conn.execute(\"INSERT INTO USER (ID,NAME,ISPATRONUS,PATRONUS, MOOD, ENERGY, KINDNESS) \\\n",
    "      VALUES (2, 'pikachu', 1, 0, 100, 100, 100)\");\n",
    "conn.execute(\"INSERT INTO USER (ID,NAME,ISPATRONUS,PATRONUS, MOOD, ENERGY, KINDNESS) \\\n",
    "      VALUES (3, 'blue', 0, 4, 10, 10, 10)\");\n",
    "conn.execute(\"INSERT INTO USER (ID,NAME,ISPATRONUS,PATRONUS, MOOD, ENERGY, KINDNESS) \\\n",
    "      VALUES (4, 'blub', 1, 0, 50, 50, 50)\");\n",
    "conn.execute(\"INSERT INTO USER (ID,NAME,ISPATRONUS,PATRONUS, MOOD, ENERGY, KINDNESS) \\\n",
    "      VALUES (5, 'ash', 1, 0, 80, 90, 50)\");\n",
    "conn.commit()"
   ]
  },
  {
   "cell_type": "code",
   "execution_count": 7,
   "id": "3970200f",
   "metadata": {},
   "outputs": [],
   "source": []
  },
  {
   "cell_type": "code",
   "execution_count": 5,
   "id": "98c1bf44",
   "metadata": {},
   "outputs": [
    {
     "ename": "IntegrityError",
     "evalue": "UNIQUE constraint failed: MESSAGE.ID",
     "output_type": "error",
     "traceback": [
      "\u001b[0;31m---------------------------------------------------------------------------\u001b[0m",
      "\u001b[0;31mIntegrityError\u001b[0m                            Traceback (most recent call last)",
      "\u001b[0;32m/var/folders/x9/kwyj6crx30d4w3wt49rp6nkc0000gp/T/ipykernel_4660/684454529.py\u001b[0m in \u001b[0;36m<module>\u001b[0;34m\u001b[0m\n\u001b[1;32m      1\u001b[0m conn.execute(\"INSERT INTO MESSAGE (ID, SENDERID, RECEIVERID, TIME, CONTENT) \\\n\u001b[1;32m      2\u001b[0m       VALUES (1, 1, 2, '2023-01-14-16:59:34', 'hi there pikachu')\");\n\u001b[0;32m----> 3\u001b[0;31m conn.execute(\"INSERT INTO MESSAGE (ID, SENDERID, RECEIVERID, TIME, CONTENT) \\\n\u001b[0m\u001b[1;32m      4\u001b[0m       VALUES (1, 2, 1, '2023-01-14-16:59:36', 'hi there jianzhi, how is your day?')\");\n\u001b[1;32m      5\u001b[0m conn.execute(\"INSERT INTO MESSAGE (ID, SENDERID, RECEIVERID, TIME, CONTENT) \\\n",
      "\u001b[0;31mIntegrityError\u001b[0m: UNIQUE constraint failed: MESSAGE.ID"
     ]
    }
   ],
   "source": [
    "conn.execute(\"INSERT INTO MESSAGE (ID, SENDERID, RECEIVERID, TIME, CONTENT) \\\n",
    "      VALUES (1, 1, 2, '2023-01-14-16:59:34', 'hi there pikachu')\");"
   ]
  },
  {
   "cell_type": "code",
   "execution_count": 6,
   "id": "557519c7",
   "metadata": {},
   "outputs": [],
   "source": [
    "conn.execute(\"INSERT INTO MESSAGE (ID, SENDERID, RECEIVERID, TIME, CONTENT) \\\n",
    "      VALUES (2, 2, 1, '2023-01-14-16:59:36', 'hi there jianzhi, how is your day?')\");\n",
    "conn.execute(\"INSERT INTO MESSAGE (ID, SENDERID, RECEIVERID, TIME, CONTENT) \\\n",
    "      VALUES (3, 1, 2, '2023-01-14-16:59:38', 'alright, had a busy day. how is your nap going?')\");"
   ]
  },
  {
   "cell_type": "code",
   "execution_count": 10,
   "id": "ecceb34a",
   "metadata": {},
   "outputs": [],
   "source": [
    "conn.execute(\"INSERT INTO MESSAGE (ID, SENDERID, RECEIVERID, TIME, CONTENT) \\\n",
    "      VALUES (4, 5, 2, '2023-01-14-16:59:34', 'hi there pikachu')\");\n",
    "conn.execute(\"INSERT INTO MESSAGE (ID, SENDERID, RECEIVERID, TIME, CONTENT) \\\n",
    "      VALUES (5, 2, 5, '2023-01-14-16:59:36', 'hi there ash, how is your day?')\");\n",
    "conn.commit()"
   ]
  },
  {
   "cell_type": "code",
   "execution_count": 21,
   "id": "732a3249",
   "metadata": {},
   "outputs": [],
   "source": [
    "conn.commit()"
   ]
  },
  {
   "cell_type": "code",
   "execution_count": 6,
   "id": "b1055a74",
   "metadata": {},
   "outputs": [
    {
     "name": "stdout",
     "output_type": "stream",
     "text": [
      "ID =  1\n",
      "NAME =  jianzhi\n",
      "ISPATRONUS =  0\n",
      "PATRONUS =  1\n",
      "MOOD =  100\n",
      "ENERGY =  100\n",
      "KINDNESS =  100\n",
      "ID =  2\n",
      "NAME =  pikachu\n",
      "ISPATRONUS =  1\n",
      "PATRONUS =  0\n",
      "MOOD =  100\n",
      "ENERGY =  100\n",
      "KINDNESS =  100\n",
      "ID =  3\n",
      "NAME =  blue\n",
      "ISPATRONUS =  0\n",
      "PATRONUS =  4\n",
      "MOOD =  10\n",
      "ENERGY =  10\n",
      "KINDNESS =  10\n",
      "ID =  4\n",
      "NAME =  blub\n",
      "ISPATRONUS =  1\n",
      "PATRONUS =  0\n",
      "MOOD =  50\n",
      "ENERGY =  50\n",
      "KINDNESS =  50\n",
      "ID =  5\n",
      "NAME =  ash\n",
      "ISPATRONUS =  1\n",
      "PATRONUS =  0\n",
      "MOOD =  80\n",
      "ENERGY =  90\n",
      "KINDNESS =  50\n"
     ]
    }
   ],
   "source": [
    "cursor = conn.execute(\"SELECT ID,NAME,ISPATRONUS,PATRONUS, MOOD, ENERGY, KINDNESS from USER\")\n",
    "for row in cursor:\n",
    "    print(\"ID = \", row[0])\n",
    "    print(\"NAME = \", row[1])\n",
    "    print(\"ISPATRONUS = \", row[2])\n",
    "    print(\"PATRONUS = \", row[3])\n",
    "    print(\"MOOD = \", row[4])\n",
    "    print(\"ENERGY = \", row[5])\n",
    "    print(\"KINDNESS = \", row[6])"
   ]
  },
  {
   "cell_type": "code",
   "execution_count": 14,
   "id": "3a178274",
   "metadata": {},
   "outputs": [
    {
     "name": "stdout",
     "output_type": "stream",
     "text": [
      "ID =  4\n",
      "senderid =  5\n",
      "receiverid =  2\n",
      "time =  2023-01-14-16:59:34\n",
      "content =  hi there pikachu\n",
      "ID =  5\n",
      "senderid =  2\n",
      "receiverid =  5\n",
      "time =  2023-01-14-16:59:36\n",
      "content =  hi there ash, how is your day?\n",
      "ID =  6\n",
      "senderid =  5\n",
      "receiverid =  2\n",
      "time =  2023-01-14-16:59:34\n",
      "content =  hello, I am still ok. How is your nap yesterday?\n",
      "ID =  7\n",
      "senderid =  2\n",
      "receiverid =  5\n",
      "time =  2023-01-14-16:59:34\n",
      "content =  i'm fine, the nap was good\n",
      "ID =  8\n",
      "senderid =  5\n",
      "receiverid =  2\n",
      "time =  2023-01-14-16:59:34\n",
      "content =  I want chips\n",
      "ID =  9\n",
      "senderid =  2\n",
      "receiverid =  5\n",
      "time =  2023-01-14-16:59:34\n",
      "content =  i'm fine, the nap was good\n",
      "ID =  10\n",
      "senderid =  5\n",
      "receiverid =  2\n",
      "time =  2023-01-14-16:59:34\n",
      "content =  hello there ash\n",
      "ID =  11\n",
      "senderid =  2\n",
      "receiverid =  5\n",
      "time =  2023-01-14-16:59:34\n",
      "content =  i'm fine, the nap was good\n",
      "ID =  12\n",
      "senderid =  5\n",
      "receiverid =  2\n",
      "time =  2023-01-14-16:59:34\n",
      "content =  hello there ash\n",
      "ID =  13\n",
      "senderid =  2\n",
      "receiverid =  5\n",
      "time =  2023-01-14-16:59:34\n",
      "content =  i'm fine, the nap was good\n",
      "ID =  14\n",
      "senderid =  5\n",
      "receiverid =  2\n",
      "time =  2023-01-14-16:59:34\n",
      "content =  hello there\n",
      "ID =  15\n",
      "senderid =  2\n",
      "receiverid =  5\n",
      "time =  2023-01-14-16:59:34\n",
      "content =  i'm fine, the nap was good\n",
      "ID =  16\n",
      "senderid =  5\n",
      "receiverid =  2\n",
      "time =  2023-01-14-16:59:34\n",
      "content =  bello\n",
      "ID =  17\n",
      "senderid =  2\n",
      "receiverid =  5\n",
      "time =  2023-01-14-16:59:34\n",
      "content =  i'm fine, the nap was good\n",
      "ID =  18\n",
      "senderid =  5\n",
      "receiverid =  2\n",
      "time =  2023-01-14-16:59:34\n",
      "content =  ahahaha\n",
      "ID =  19\n",
      "senderid =  2\n",
      "receiverid =  5\n",
      "time =  2023-01-14-16:59:34\n",
      "content =  i'm fine, the nap was good\n",
      "ID =  20\n",
      "senderid =  5\n",
      "receiverid =  2\n",
      "time =  2023-01-14-16:59:34\n",
      "content =  hello pika\n",
      "ID =  21\n",
      "senderid =  2\n",
      "receiverid =  5\n",
      "time =  2023-01-14-16:59:34\n",
      "content =  i'm fine, the nap was good\n",
      "ID =  22\n",
      "senderid =  5\n",
      "receiverid =  2\n",
      "time =  2023-01-14-16:59:34\n",
      "content =  hellosdf\n",
      "ID =  23\n",
      "senderid =  2\n",
      "receiverid =  5\n",
      "time =  2023-01-14-16:59:34\n",
      "content =  i'm fine, the nap was good\n",
      "ID =  24\n",
      "senderid =  5\n",
      "receiverid =  2\n",
      "time =  2023-01-14-16:59:34\n",
      "content =  higher power's taking a hold on me\n",
      "ID =  25\n",
      "senderid =  2\n",
      "receiverid =  5\n",
      "time =  2023-01-14-16:59:34\n",
      "content =  i'm fine, the nap was good\n",
      "ID =  26\n",
      "senderid =  5\n",
      "receiverid =  2\n",
      "time =  2023-01-14-16:59:34\n",
      "content =  baby i love your style\n",
      "ID =  27\n",
      "senderid =  2\n",
      "receiverid =  5\n",
      "time =  2023-01-14-16:59:34\n",
      "content =  i'm fine, the nap was good\n",
      "ID =  28\n",
      "senderid =  5\n",
      "receiverid =  2\n",
      "time =  2023-01-14-16:59:34\n",
      "content =  i'm paralysed\n",
      "ID =  29\n",
      "senderid =  2\n",
      "receiverid =  5\n",
      "time =  2023-01-14-16:59:34\n",
      "content =  i'm fine, the nap was good\n",
      "ID =  30\n",
      "senderid =  5\n",
      "receiverid =  2\n",
      "time =  2023-01-14-16:59:34\n",
      "content =  detlahere\n",
      "ID =  31\n",
      "senderid =  2\n",
      "receiverid =  5\n",
      "time =  2023-01-14-16:59:34\n",
      "content =  i'm fine, the nap was good\n",
      "ID =  32\n",
      "senderid =  5\n",
      "receiverid =  2\n",
      "time =  2023-01-14-16:59:34\n",
      "content =  after one message\n",
      "ID =  33\n",
      "senderid =  2\n",
      "receiverid =  5\n",
      "time =  2023-01-14-16:59:34\n",
      "content =  i'm fine, the nap was good\n",
      "ID =  34\n",
      "senderid =  5\n",
      "receiverid =  2\n",
      "time =  2023-01-14-16:59:34\n",
      "content =  bello\n",
      "ID =  35\n",
      "senderid =  2\n",
      "receiverid =  5\n",
      "time =  2023-01-14-16:59:34\n",
      "content =  i'm fine, the nap was good\n",
      "ID =  36\n",
      "senderid =  5\n",
      "receiverid =  2\n",
      "time =  2023-01-14-16:59:34\n",
      "content =  for some reasons i can't explain\n",
      "ID =  37\n",
      "senderid =  2\n",
      "receiverid =  5\n",
      "time =  2023-01-14-16:59:34\n",
      "content =  i'm fine, the nap was good\n",
      "ID =  38\n",
      "senderid =  5\n",
      "receiverid =  2\n",
      "time =  2023-01-14-16:59:34\n",
      "content =  for some \n",
      "ID =  39\n",
      "senderid =  2\n",
      "receiverid =  5\n",
      "time =  2023-01-14-16:59:34\n",
      "content =  i'm fine, the nap was good\n",
      "ID =  40\n",
      "senderid =  5\n",
      "receiverid =  2\n",
      "time =  2023-01-14-16:59:34\n",
      "content =  for some \n",
      "ID =  41\n",
      "senderid =  2\n",
      "receiverid =  5\n",
      "time =  2023-01-14-16:59:34\n",
      "content =  i'm fine, the nap was good\n",
      "ID =  42\n",
      "senderid =  5\n",
      "receiverid =  2\n",
      "time =  2023-01-14-16:59:34\n",
      "content =  what is happening\n",
      "ID =  43\n",
      "senderid =  2\n",
      "receiverid =  5\n",
      "time =  2023-01-14-16:59:34\n",
      "content =  i'm fine, the nap was good\n"
     ]
    }
   ],
   "source": [
    "cursor = conn.execute(\"SELECT id, senderid, receiverid, time, content from MESSAGE\")\n",
    "for row in cursor:\n",
    "    print(\"ID = \", row[0])\n",
    "    print(\"senderid = \", row[1])\n",
    "    print(\"receiverid = \", row[2])\n",
    "    print(\"time = \", row[3])\n",
    "    print(\"content = \", row[4])"
   ]
  },
  {
   "cell_type": "code",
   "execution_count": 17,
   "id": "57faa495",
   "metadata": {},
   "outputs": [
    {
     "name": "stdout",
     "output_type": "stream",
     "text": [
      "3\n"
     ]
    }
   ],
   "source": [
    "cursor = conn.execute(\"SELECT MAX(ID) FROM MESSAGE\")\n",
    "for row in cursor:\n",
    "    print(row[0])"
   ]
  },
  {
   "cell_type": "code",
   "execution_count": 38,
   "id": "4165291a",
   "metadata": {},
   "outputs": [],
   "source": [
    "conn.close()"
   ]
  },
  {
   "cell_type": "code",
   "execution_count": null,
   "id": "50e4f51e",
   "metadata": {},
   "outputs": [],
   "source": []
  }
 ],
 "metadata": {
  "kernelspec": {
   "display_name": "Python 3 (ipykernel)",
   "language": "python",
   "name": "python3"
  },
  "language_info": {
   "codemirror_mode": {
    "name": "ipython",
    "version": 3
   },
   "file_extension": ".py",
   "mimetype": "text/x-python",
   "name": "python",
   "nbconvert_exporter": "python",
   "pygments_lexer": "ipython3",
   "version": "3.9.7"
  }
 },
 "nbformat": 4,
 "nbformat_minor": 5
}
